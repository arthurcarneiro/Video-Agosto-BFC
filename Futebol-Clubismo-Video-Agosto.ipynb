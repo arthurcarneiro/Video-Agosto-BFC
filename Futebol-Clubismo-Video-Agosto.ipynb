{
 "cells": [
  {
   "cell_type": "markdown",
   "metadata": {},
   "source": [
    "As Bibliotecas que serão necessárias para criar o vídeo com a variação pontuação de cada participante em cada jogo do mês de Agosto do Campeonato Brasileiro 2020 sendo atualizada a cada gol que acontece na rodada.\n",
    "\n"
   ]
  },
  {
   "cell_type": "code",
   "execution_count": 2,
   "metadata": {},
   "outputs": [],
   "source": [
    "import gspread\n",
    "from oauth2client.service_account import ServiceAccountCredentials\n",
    "#Bibliotecas que importam dados via API do Google spreadsheets\n",
    "\n",
    "import pandas as pd \n",
    "import numpy as np\n",
    "#Bibliotecas responsáveis por organizar e analisar os dados\n",
    "\n",
    "import Main\n",
    "from return_class_cmplt import return_class_cmplt\n",
    "from return_rodada import return_rodada\n",
    "#Funções nativas criadas para criar a pontuação e associar aos participantes\n",
    "\n",
    "import os\n",
    "from moviepy.editor import *\n",
    "from glob import glob\n",
    "import scipy.misc\n",
    "\n",
    "import plotly           #(version 4.5.0)\n",
    "import plotly.io as pio\n",
    "import plotly.graph_objects as go\n",
    "#Bibliotecas responsáveis por criar os frames e organizá-los para poder renderizar o vídeo\n",
    "\n",
    "import warnings\n",
    "warnings.filterwarnings(\"ignore\", category=FutureWarning)\n",
    "#Biblioteca para reter os warnings eventuais.\n"
   ]
  },
  {
   "cell_type": "code",
   "execution_count": 5,
   "metadata": {},
   "outputs": [],
   "source": [
    "scope = ['https://spreadsheets.google.com/feeds','https://www.googleapis.com/auth/drive']\n",
    "creds = ServiceAccountCredentials.from_json_keyfile_name('BolaoFutebolClubismo-d44be1b6b394.json', scope)\n",
    "client = gspread.authorize(creds)\n",
    "#Acesso à API do google spreadsheets a partir da biblioteca oauth2client"
   ]
  },
  {
   "cell_type": "code",
   "execution_count": 6,
   "metadata": {},
   "outputs": [],
   "source": [
    "sheet = client.open('Games Timeline')\n",
    "teste_sheet = sheet.sheet1\n",
    "\n",
    "valores_sheet = teste_sheet.get_all_values()\n",
    "\n",
    "#Acesso aos valores da planilha \"Games Timeline\" através da biblioteca gspread"
   ]
  },
  {
   "cell_type": "code",
   "execution_count": 7,
   "metadata": {},
   "outputs": [],
   "source": [
    "dict_jogos = {}\n",
    "valores_sheet = [[i for i in j if i] for j in valores_sheet if j != []]\n",
    "valores_sheet = [j for j in valores_sheet if j]\n",
    "\n",
    "rodadas_dict = {}\n",
    "for i in valores_sheet:\n",
    "    if i[0][:6] == 'Rodada':\n",
    "        k = i[0]\n",
    "        a = []\n",
    "    else:\n",
    "        a.append(i)\n",
    "    rodadas_dict.update({k:a})\n",
    "    \n",
    "#Organizou-se, inicialmente, cada jogo por um dicionário em que a Key era o número da rodada e os valores seriam cada jogo.\n",
    "#Esse formato, entretanto, não é definitivo."
   ]
  },
  {
   "cell_type": "code",
   "execution_count": 8,
   "metadata": {},
   "outputs": [],
   "source": [
    "cadastro_sheet = Main.get_data('BolaoFutebolClubismo-d44be1b6b394.json', '', \"Cadastro\")\n",
    "    \n",
    "#gabarito = rodadas_dict['Rodada 1'][0][0:2]\n",
    "cadastro = cadastro_sheet.get_all_values()\n",
    "\n",
    "cadastro_dict = {int(d[2]): d[1] for d in cadastro[1:]}\n",
    "\n",
    "#Importou-se da planilha Cadastro o nome de cada participante do mês."
   ]
  },
  {
   "cell_type": "code",
   "execution_count": 12,
   "metadata": {},
   "outputs": [],
   "source": [
    "jogos_organizados = {}\n",
    "for k,v in rodadas_dict.items():\n",
    "    dict_temp = {}\n",
    "    dict_temp.update({a[0]:a[1:] for a in v})\n",
    "    jogos_organizados.update({k:dict_temp})\n",
    "\n",
    "#Agora, para organizar em definitivo, foi feito um dicionário para cada rodada com cada item deste sendo um \n",
    "#jogo e \n",
    "#Fica assim:\n",
    "# {Rodada 1: {'Fortaleza x Atlético-PR':['0x0, '0x1','0x2'], ...}, Rodada 2: {...}}"
   ]
  },
  {
   "cell_type": "code",
   "execution_count": null,
   "metadata": {},
   "outputs": [],
   "source": [
    "rodadas = ['Rodada 1', 'Rodada 2', 'Rodada 3', 'Rodada 4', 'Rodada 5', 'Rodada 6']\n",
    "#lista de cada rodada no mês\n",
    "\n",
    "barras = np.asarray([0x0A369D,0xAFE3C0,0xcf313b,0x5398BE,0xF9B3D1,0xFF9914,0xFFDCFF,0x00FFFF,0x800000,0x008001,0x6C955F,\n",
    "        0x9DC5BB,0x17B890,0x5E807F,0x1D2F6F,0x6457A6,0x082D0F,0x5E807F,0xFC7753,0x46ACC2,0x802091,\n",
    "        0xA00092,0xDF2BE5,0xcc6e16,0xC0C0C1,0x3baf41,0xDF2935,0x808083,0xDF2235,0xDF2935,0x084B83,\n",
    "        0xDF29BB, 0x8A8BC8])\n",
    "#Array criado com valor em hexadecimal do RGB das cores que vão ser usadas para cada participante no vídeo. \n",
    "#Esses valores vão ser concatenados no dataframe futuramente."
   ]
  },
  {
   "cell_type": "code",
   "execution_count": null,
   "metadata": {},
   "outputs": [],
   "source": [
    "flag = False\n",
    "for rodada in rodadas:\n",
    "\n",
    "    palpites_sheet, gabarito_sheet = Main.get_data('BolaoFutebolClubismo-d44be1b6b394.json','palpites_gabarito', rodada)\n",
    "    gabarito_ = [[list(jogos_organizados[rodada].keys())[i],'-'] for i in range(len(jogos_organizados[rodada]))]\n",
    "\n",
    "    palpites = palpites_sheet.get_all_values()\n",
    "    for k,v in jogos_organizados[rodada].items():\n",
    "        placares_df = {}\n",
    "        for a in v:\n",
    "            gabarito_[list(jogos_organizados[rodada].keys()).index(k)][1] = a\n",
    "            if flag == True:\n",
    "                b = return_class_cmplt(Main.get_boletins(gabarito_, palpites, cadastro_dict,True))\n",
    "                n = pd.concat([dfs,b]).groupby(['Nome']).sum()\n",
    "                n = n.sort_values(by=['Pontos Totais'], ascending=0)\n",
    "                n = n.reset_index()\n",
    "                n.index = [i+1 for i in range(0, len(n.values))]\n",
    "                placares_df.update({a:n})\n",
    "            else:\n",
    "                dfs = return_class_cmplt(Main.get_boletins(gabarito_, palpites, cadastro_dict,True))\n",
    "                dfs['color'] = barras\n",
    "                placares_df.update({a:dfs})\n",
    "\n",
    "        \n",
    "        jogos_organizados[rodada][k] = placares_df\n",
    "    if flag:\n",
    "        dfs = n\n",
    "    flag = True\n",
    "\n",
    "#O código analisa as rodadas da seguinte forma: \n",
    "# 1)Importa todos os palpites de uma rodada. \n",
    "# 2)Cria uma lista com todos os jogos sem terem iniciado com '-'\n",
    "# 3)Atribui um placar parcial ao jogo. Cria uma classificação parcial para essa situação e cada placar será key em um\n",
    "# dicionário que terá um dataframe associado."
   ]
  },
  {
   "cell_type": "code",
   "execution_count": null,
   "metadata": {},
   "outputs": [],
   "source": [
    "dict_frame = {}\n",
    "for rodada in rodadas:\n",
    "    for k,v in jogos_organizados[rodada].items():\n",
    "        a = k.split('x')\n",
    "        for i,j in v.items():\n",
    "            dict_frame.update({str(rodada + ': ' + a[0] + i + a[1]): j})\n",
    "\n",
    "#Ultima organização para criar um dicionário com cada key sendo na forma \"time 1 0x0 time 2\" e o dataframe da classificação\n",
    "#associado a isso. Caso, por exemplo, o jogo seja 2x0 para um time, teremos um dataframe para 0x0, mais um para 1x0 e 2x0.\n",
    "#Totalizando sempre número de dataframes = (número de gols de um jogo) + 1\n"
   ]
  },
  {
   "cell_type": "code",
   "execution_count": null,
   "metadata": {},
   "outputs": [],
   "source": [
    "i = 0\n",
    "for key,value in dict_frame.items():\n",
    "    fig = go.Figure(\n",
    "        data=[\n",
    "            go.Bar(\n",
    "            x=value['Pontos Totais'], y=value['Nome'],orientation='h',\n",
    "            text=value['Pontos Totais'], texttemplate='%{text:.3s}',\n",
    "            textfont={'size':14}, textposition='inside', insidetextanchor='middle',\n",
    "            width=0.9, marker={'color':value['color']})\n",
    "        ],\n",
    "        layout=go.Layout(\n",
    "        xaxis=dict(range=[0, 230], autorange=False, title=dict(text='Pontos',font=dict(size=14))),\n",
    "        yaxis=dict(range=[-0.5, 5.5], autorange=False,tickfont=dict(size=14)),\n",
    "        title=dict(text=key,font=dict(size=28),x=0.5,xanchor='center'),\n",
    "        )\n",
    "    )\n",
    "    if not os.path.exists(\"images\"):\n",
    "        os.mkdir(\"images\")\n",
    "    fig.write_image(\"images/\" + str(i) + \".png\")\n",
    "    i = i+1\n",
    "    \n",
    "#Criação de cada frame e armazenado em uma pasta images para formar o vídeo."
   ]
  },
  {
   "cell_type": "code",
   "execution_count": 3,
   "metadata": {},
   "outputs": [
    {
     "name": "stdout",
     "output_type": "stream",
     "text": [
      "Moviepy - Building video video_agosto_novo.mp4.\n",
      "MoviePy - Writing audio in video_agosto_novoTEMP_MPY_wvf_snd.mp3\n"
     ]
    },
    {
     "name": "stderr",
     "output_type": "stream",
     "text": [
      "t:   0%|                                                                            | 0/5012 [00:00<?, ?it/s, now=None]"
     ]
    },
    {
     "name": "stdout",
     "output_type": "stream",
     "text": [
      "MoviePy - Done.\n",
      "Moviepy - Writing video video_agosto_novo.mp4\n",
      "\n"
     ]
    },
    {
     "name": "stderr",
     "output_type": "stream",
     "text": [
      "                                                                                                                       \r"
     ]
    },
    {
     "name": "stdout",
     "output_type": "stream",
     "text": [
      "Moviepy - Done !\n",
      "Moviepy - video ready video_agosto_novo.mp4\n"
     ]
    }
   ],
   "source": [
    "images = ['images/' + str(i) + '.png' for i in range(174)]\n",
    "audio = AudioFileClip('ROUSE - Density & Time'  + '.mp3') #inserir arquivo mp3 que deseja\n",
    "\n",
    "clips = [ImageClip(m).set_duration(1.2) for m in images]\n",
    "\n",
    "concat_clip = concatenate_videoclips(clips, method=\"compose\")\n",
    "new_audioclip = CompositeAudioClip([audio])\n",
    "\n",
    "concat_clip.audio = new_audioclip\n",
    "concat_clip.write_videofile(\"video_agosto_novo.mp4\", fps=24)\n",
    "\n",
    "#Criação do vídeo a partir da biblioteca moviepy."
   ]
  }
 ],
 "metadata": {
  "kernelspec": {
   "display_name": "Python 3",
   "language": "python",
   "name": "python3"
  },
  "language_info": {
   "codemirror_mode": {
    "name": "ipython",
    "version": 3
   },
   "file_extension": ".py",
   "mimetype": "text/x-python",
   "name": "python",
   "nbconvert_exporter": "python",
   "pygments_lexer": "ipython3",
   "version": "3.7.6"
  }
 },
 "nbformat": 4,
 "nbformat_minor": 4
}
